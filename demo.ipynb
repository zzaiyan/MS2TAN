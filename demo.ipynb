{
 "cells": [
  {
   "cell_type": "code",
   "execution_count": null,
   "metadata": {},
   "outputs": [],
   "source": [
    "import torch\n",
    "from models.network import *"
   ]
  },
  {
   "cell_type": "code",
   "execution_count": null,
   "metadata": {},
   "outputs": [],
   "source": [
    "device = \"cuda\"\n",
    "num_frame = 10\n",
    "num_channel = 6\n",
    "img_size = 120\n",
    "\n",
    "model = MS2TAN(\n",
    "        dim_list=[384, 256, 192],\n",
    "        num_frame=num_frame,\n",
    "        image_size=img_size,\n",
    "        patch_list=[12, 10, 8],\n",
    "        in_chans=num_channel+1,\n",
    "        out_chans=num_channel,\n",
    "        depth_list=[4, 4, 4],\n",
    "        heads_list=[8, 8, 8],\n",
    "        dim_head_list=[48, 32, 24],\n",
    "    ).to(device)\n",
    "init_weights(model)"
   ]
  },
  {
   "cell_type": "code",
   "execution_count": null,
   "metadata": {},
   "outputs": [],
   "source": [
    "total = sum(p.numel() for p in model.parameters())\n",
    "print(\"Total params: %.2fM\" % (total/1e6))"
   ]
  },
  {
   "cell_type": "code",
   "execution_count": null,
   "metadata": {},
   "outputs": [],
   "source": [
    "batch_size = 1\n",
    "\n",
    "# input and output time-series images\n",
    "X = torch.randn(batch_size, num_frame, num_channel, img_size, img_size).to(device)\n",
    "y = torch.randn(batch_size, num_frame, num_channel, img_size, img_size).to(device)\n",
    "\n",
    "# artificial masked pixels in trainset\n",
    "artificial = torch.randn(batch_size, num_frame, 1, img_size, img_size).to(device)\n",
    "\n",
    "# hint tensor for each missing pixels (both artificial and real)\n",
    "hint_tensor = torch.randn(batch_size, num_frame, 1, img_size, img_size).to(device)"
   ]
  },
  {
   "cell_type": "code",
   "execution_count": null,
   "metadata": {},
   "outputs": [],
   "source": [
    "# forward\n",
    "out = model(X, (hint_tensor, artificial), y, mode='each')\n",
    "\n",
    "# each immediate result\n",
    "out_list = out['hist_list']\n",
    "for idx, res in enumerate(out_list):\n",
    "    print(f'Immediate result {idx}:', res.shape)\n",
    "\n",
    "# final result after replacement\n",
    "final_result = out['replace_out']\n",
    "print(f'Final result:', final_result.shape)"
   ]
  }
 ],
 "metadata": {
  "kernelspec": {
   "display_name": "gis",
   "language": "python",
   "name": "python3"
  },
  "language_info": {
   "codemirror_mode": {
    "name": "ipython",
    "version": 3
   },
   "file_extension": ".py",
   "mimetype": "text/x-python",
   "name": "python",
   "nbconvert_exporter": "python",
   "pygments_lexer": "ipython3",
   "version": "3.9.18"
  }
 },
 "nbformat": 4,
 "nbformat_minor": 2
}
